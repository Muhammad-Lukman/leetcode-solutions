{
 "cells": [
  {
   "cell_type": "markdown",
   "id": "a64b83a0",
   "metadata": {},
   "source": [
    "# Jump Game\n",
    "\n",
    "## Problem Statement\n",
    "\n",
    "You are given an integer array `nums`. You are initially positioned at the array's first index, and each element in the array represents your maximum jump length at that position. Return `true` if you can reach the last index, or `false` otherwise.\n",
    "\n",
    "### Requirements:\n",
    "1. Start at index 0\n",
    "2. Each element represents maximum jump length from that position\n",
    "3. Determine if last index is reachable"
   ]
  },
  {
   "cell_type": "code",
   "execution_count": 7,
   "id": "8e1633ff",
   "metadata": {},
   "outputs": [],
   "source": [
    "\"\"\"\n",
    "Problem: Jump Game\n",
    "Link: https://leetcode.com/problems/jump-game\n",
    "Level: Medium\n",
    "\"\"\"\n",
    "class Solution(object):\n",
    "    def canJump(self, nums):\n",
    "\n",
    "        max_reach = 0  # The farthest index we can currently reach (starts at 0)\n",
    "        for i in range(len(nums)):\n",
    "            if i > max_reach:  # If we can't reach this index, return False\n",
    "                return False\n",
    "            max_reach = max(max_reach, i + nums[i]) # Updates max_reach to be the maximum of its current value or i + nums[i]\n",
    "        return True"
   ]
  },
  {
   "cell_type": "markdown",
   "id": "bb6a51ec",
   "metadata": {},
   "source": [
    "## Test Example"
   ]
  },
  {
   "cell_type": "code",
   "execution_count": 8,
   "id": "cdd9c5ad",
   "metadata": {},
   "outputs": [
    {
     "name": "stdout",
     "output_type": "stream",
     "text": [
      "True\n"
     ]
    }
   ],
   "source": [
    "nums = [2,3,1,1,4]\n",
    "print(Solution().canJump(nums))  # Output: 3"
   ]
  },
  {
   "cell_type": "markdown",
   "id": "c3338f1f",
   "metadata": {},
   "source": [
    "> Explanation: Jump 1 step from index 0 to 1, then 3 steps to the last index."
   ]
  }
 ],
 "metadata": {
  "kernelspec": {
   "display_name": "base",
   "language": "python",
   "name": "python3"
  },
  "language_info": {
   "codemirror_mode": {
    "name": "ipython",
    "version": 3
   },
   "file_extension": ".py",
   "mimetype": "text/x-python",
   "name": "python",
   "nbconvert_exporter": "python",
   "pygments_lexer": "ipython3",
   "version": "3.13.2"
  }
 },
 "nbformat": 4,
 "nbformat_minor": 5
}
