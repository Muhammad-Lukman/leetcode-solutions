{
 "cells": [
  {
   "cell_type": "markdown",
   "id": "f33e3e4e",
   "metadata": {},
   "source": [
    "# Insert Delete GetRandom O(1)\n",
    "\n",
    "## Problem Statement\n",
    "\n",
    "Implement the `RandomizedSet` class:\n",
    "- `RandomizedSet()` Initializes the object\n",
    "- `bool insert(int val)` Inserts `val` if not present, returns `true` if successful\n",
    "- `bool remove(int val)` Removes `val` if present, returns `true` if successful\n",
    "- `int getRandom()` Returns a random element with equal probability\n",
    "\n",
    "All operations must work in average O(1) time complexity.\n",
    "\n",
    "### Requirements:\n",
    "1. Insert, remove, and getRandom operations must be O(1) average time\n",
    "2. getRandom must return each element with equal probability\n",
    "3. Elements must be unique in the set\n"
   ]
  },
  {
   "cell_type": "code",
   "execution_count": 6,
   "id": "9ed11e81",
   "metadata": {},
   "outputs": [],
   "source": [
    "\"\"\"\n",
    "Problem: Insert Delete GetRandom O(1)\n",
    "Link: https://leetcode.com/problems/insert-delete-getrandom-o1\n",
    "Level: Medium\n",
    "\"\"\"\n",
    "from random import choice\n",
    "\n",
    "class RandomizedSet(object):\n",
    "\n",
    "    def __init__(self):\n",
    "        self.dic = {}\n",
    "        self.list = []\n",
    "\n",
    "    def insert(self, val):\n",
    "        if val in self.dic:\n",
    "            return False\n",
    "        self.dic[val] = len(self.list)\n",
    "        self.list.append(val)\n",
    "        return True\n",
    "\n",
    "    def remove(self, val):\n",
    "        if val not in self.dic:\n",
    "            return False\n",
    "\n",
    "        last_element, idx = self.list[-1], self.dic[val]\n",
    "        self.list[idx], self.dic[last_element] = last_element, idx\n",
    "\n",
    "        # Remove last\n",
    "        self.list.pop()\n",
    "        del self.dic[val]\n",
    "        return True\n",
    "\n",
    "    def getRandom(self):\n",
    "        return choice(self.list)"
   ]
  }
 ],
 "metadata": {
  "kernelspec": {
   "display_name": "base",
   "language": "python",
   "name": "python3"
  },
  "language_info": {
   "codemirror_mode": {
    "name": "ipython",
    "version": 3
   },
   "file_extension": ".py",
   "mimetype": "text/x-python",
   "name": "python",
   "nbconvert_exporter": "python",
   "pygments_lexer": "ipython3",
   "version": "3.13.2"
  }
 },
 "nbformat": 4,
 "nbformat_minor": 5
}
