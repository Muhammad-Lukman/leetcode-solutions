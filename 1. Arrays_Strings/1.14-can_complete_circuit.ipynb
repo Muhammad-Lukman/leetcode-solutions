{
 "cells": [
  {
   "cell_type": "markdown",
   "id": "c0a8f16a",
   "metadata": {},
   "source": [
    "# Gas Station\n",
    "\n",
    "## Problem Statement\n",
    "\n",
    "There are `n` gas stations along a circular route. At station `i`, you can collect `gas[i]` amount of fuel. It costs `cost[i]` to travel from station `i` to station `i+1`. You start with an empty tank at one of the stations. Return the starting station's index if you can travel around the circuit once clockwise, otherwise return -1. The solution is guaranteed to be unique if it exists.\n",
    "\n",
    "### Requirements:\n",
    "1. Determine if a complete circuit is possible\n",
    "2. Return the unique starting index if possible\n",
    "3. Return -1 if no solution exists"
   ]
  },
  {
   "cell_type": "code",
   "execution_count": 11,
   "id": "fda9261a",
   "metadata": {},
   "outputs": [],
   "source": [
    "\"\"\"\n",
    "Problem: Gas Station\n",
    "Link: https://leetcode.com/problems/gas-station\n",
    "Level: Medium\n",
    "\"\"\"\n",
    "class Solution(object):\n",
    "    def canCompleteCircuit(self, gas, cost):\n",
    "\n",
    "        if sum(gas)<sum(cost):\n",
    "            return -1\n",
    "        start=0\n",
    "        tank=0\n",
    "        for i in range(len(gas)):\n",
    "            tank+=gas[i]-cost[i]\n",
    "            if tank<0: #We cant continue from here!!\n",
    "                start=i+1\n",
    "                tank=0\n",
    "        return start"
   ]
  },
  {
   "cell_type": "code",
   "execution_count": 12,
   "id": "08c86acf",
   "metadata": {},
   "outputs": [
    {
     "name": "stdout",
     "output_type": "stream",
     "text": [
      "3\n"
     ]
    }
   ],
   "source": [
    "gas = [1,2,3,4,5]\n",
    "cost = [3,4,5,1,2]\n",
    "s = Solution()\n",
    "print(s.canCompleteCircuit(gas, cost))"
   ]
  },
  {
   "cell_type": "markdown",
   "id": "25ba2023",
   "metadata": {},
   "source": [
    "> Explanation:\n",
    "Start at station 3 (index 3) and fill up with 4 unit of gas. Your tank = 0 + 4 = 4\n",
    "- Travel to station 4. Your tank = 4 - 1 + 5 = 8\n",
    "- Travel to station 0. Your tank = 8 - 2 + 1 = 7\n",
    "- Travel to station 1. Your tank = 7 - 3 + 2 = 6\n",
    "- Travel to station 2. Your tank = 6 - 4 + 3 = 5\n",
    "- Travel to station 3. The cost is 5. Your gas is just enough to travel back to station 3.\n",
    "- Therefore, return 3 as the starting index."
   ]
  },
  {
   "cell_type": "markdown",
   "id": "3093b475",
   "metadata": {},
   "source": [
    "## Alternative"
   ]
  },
  {
   "cell_type": "code",
   "execution_count": 13,
   "id": "8e6bcdd0",
   "metadata": {},
   "outputs": [],
   "source": [
    "class Solution1(object):\n",
    "    def canCompleteCircuit(self, gas, cost):\n",
    "\n",
    "        total_tank = 0\n",
    "        current_tank = 0\n",
    "        start_station = 0\n",
    "\n",
    "        for i in range(len(gas)):\n",
    "            total_tank += gas[i] - cost[i]\n",
    "            current_tank += gas[i] - cost[i]\n",
    "            if current_tank < 0:\n",
    "                # Can't reach the next station; try the next one as a new start\n",
    "                start_station = i + 1\n",
    "                current_tank = 0\n",
    "\n",
    "        return start_station if total_tank >= 0 else -1\n"
   ]
  }
 ],
 "metadata": {
  "kernelspec": {
   "display_name": "base",
   "language": "python",
   "name": "python3"
  },
  "language_info": {
   "codemirror_mode": {
    "name": "ipython",
    "version": 3
   },
   "file_extension": ".py",
   "mimetype": "text/x-python",
   "name": "python",
   "nbconvert_exporter": "python",
   "pygments_lexer": "ipython3",
   "version": "3.13.2"
  }
 },
 "nbformat": 4,
 "nbformat_minor": 5
}
