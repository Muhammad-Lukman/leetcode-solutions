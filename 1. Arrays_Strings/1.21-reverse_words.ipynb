{
 "cells": [
  {
   "cell_type": "markdown",
   "id": "d12fd4e3",
   "metadata": {},
   "source": [
    "# Reverse Words in a String\n",
    "\n",
    "## Problem Statement\n",
    "\n",
    "Given an input string `s`, reverse the order of the words.\n",
    "\n",
    "### Requirements:\n",
    "1. A word is defined as a sequence of non-space characters\n",
    "2. Words will be separated by at least one space in the input\n",
    "3. Return the words in reverse order joined by single spaces\n",
    "4. Handle leading/trailing spaces and multiple spaces between words\n",
    "5. The output should contain no leading/trailing spaces and only single spaces between words\n"
   ]
  },
  {
   "cell_type": "code",
   "execution_count": 1,
   "id": "eb25f4e2",
   "metadata": {},
   "outputs": [],
   "source": [
    "class Solution(object):\n",
    "    def reverseWords(self, s):\n",
    "\n",
    "        words = s.strip().split()\n",
    "        return \" \".join(reversed(words))"
   ]
  },
  {
   "cell_type": "code",
   "execution_count": 2,
   "id": "d147bf12",
   "metadata": {},
   "outputs": [
    {
     "name": "stdout",
     "output_type": "stream",
     "text": [
      "blue is sky the\n"
     ]
    }
   ],
   "source": [
    "s = \"the sky is blue\"\n",
    "print(Solution().reverseWords(s))"
   ]
  }
 ],
 "metadata": {
  "kernelspec": {
   "display_name": "base",
   "language": "python",
   "name": "python3"
  },
  "language_info": {
   "codemirror_mode": {
    "name": "ipython",
    "version": 3
   },
   "file_extension": ".py",
   "mimetype": "text/x-python",
   "name": "python",
   "nbconvert_exporter": "python",
   "pygments_lexer": "ipython3",
   "version": "3.13.2"
  }
 },
 "nbformat": 4,
 "nbformat_minor": 5
}
