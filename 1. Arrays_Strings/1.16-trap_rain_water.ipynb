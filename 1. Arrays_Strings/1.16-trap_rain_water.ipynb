{
 "cells": [
  {
   "cell_type": "markdown",
   "id": "e7340e8c",
   "metadata": {},
   "source": [
    "# Trapping Rain Water\n",
    "\n",
    "## Problem Statement\n",
    "\n",
    "Given `n` non-negative integers representing an elevation map where the width of each bar is 1, compute how much water can be trapped after raining.\n",
    "\n",
    "### Requirements:\n",
    "1. Calculate total trapped water between bars\n",
    "2. Each bar has width 1 and height given by array value\n",
    "3. Water can only be trapped between two higher bars\n",
    "\n"
   ]
  },
  {
   "cell_type": "code",
   "execution_count": 3,
   "id": "34569d4a",
   "metadata": {},
   "outputs": [],
   "source": [
    "\"\"\"\n",
    "Problem: Trapping Rain Water\n",
    "Link: https://leetcode.com/problems/trapping-rain-water\n",
    "Level: Hard\n",
    "\"\"\"\n",
    "class Solution(object):\n",
    "    def trap(self, height):\n",
    "\n",
    "        left, right = 0, len(height) - 1\n",
    "        left_max, right_max = 0, 0\n",
    "        water = 0       # To accumulate trapped water\n",
    "\n",
    "        while left < right:\n",
    "            if height[left] < height[right]:\n",
    "                if height[left] >= left_max:\n",
    "                    left_max = height[left]\n",
    "                else:\n",
    "                    water += left_max - height[left]\n",
    "                left += 1\n",
    "            else:\n",
    "                if height[right] >= right_max:\n",
    "                    right_max = height[right]\n",
    "                else:\n",
    "                    water += right_max - height[right]\n",
    "                right -= 1\n",
    "\n",
    "        return water"
   ]
  },
  {
   "cell_type": "code",
   "execution_count": 4,
   "id": "3bd6d551",
   "metadata": {},
   "outputs": [
    {
     "name": "stdout",
     "output_type": "stream",
     "text": [
      "6\n"
     ]
    }
   ],
   "source": [
    "height = [0,1,0,2,1,0,1,3,2,1,2,1]\n",
    "s = Solution()\n",
    "print(s.trap(height))  # Output: 6"
   ]
  }
 ],
 "metadata": {
  "kernelspec": {
   "display_name": "base",
   "language": "python",
   "name": "python3"
  },
  "language_info": {
   "codemirror_mode": {
    "name": "ipython",
    "version": 3
   },
   "file_extension": ".py",
   "mimetype": "text/x-python",
   "name": "python",
   "nbconvert_exporter": "python",
   "pygments_lexer": "ipython3",
   "version": "3.13.2"
  }
 },
 "nbformat": 4,
 "nbformat_minor": 5
}
