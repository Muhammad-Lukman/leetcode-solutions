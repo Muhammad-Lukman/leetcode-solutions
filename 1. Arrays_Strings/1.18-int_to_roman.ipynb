{
 "cells": [
  {
   "cell_type": "markdown",
   "id": "e65b8661",
   "metadata": {},
   "source": [
    "# Integer to Roman\n",
    "\n",
    "## Problem Statement\n",
    "\n",
    "Convert an integer to a Roman numeral. Roman numerals are represented by seven symbols with specific values and formation rules:\n",
    "\n",
    "| Symbol | Value |\n",
    "|--------|-------|\n",
    "| I      | 1     |\n",
    "| V      | 5     |\n",
    "| X      | 10    |\n",
    "| L      | 50    |\n",
    "| C      | 100   |\n",
    "| D      | 500   |\n",
    "| M      | 1000  |\n",
    "\n",
    "### Formation Rules:\n",
    "1. **Additive Notation**: Symbols are added from left to right in descending order (e.g., III = 3, XII = 12)\n",
    "2. **Subtractive Notation**: Used for:\n",
    "   - IV (4), IX (9)\n",
    "   - XL (40), XC (90)\n",
    "   - CD (400), CM (900)\n",
    "3. **Repetition Limits**:\n",
    "   - I, X, C, M can repeat up to 3 times\n",
    "   - V, L, D cannot repeat\n",
    "\n",
    "\n"
   ]
  },
  {
   "cell_type": "code",
   "execution_count": 1,
   "id": "a2f16ace",
   "metadata": {},
   "outputs": [],
   "source": [
    "\"\"\"\n",
    "Problem: Integer to Roman\n",
    "Link: https://leetcode.com/problems/integer-to-roman\n",
    "Level: Medium\n",
    "\"\"\"\n",
    "class Solution(object):\n",
    "    def intToRoman(self, num):\n",
    "\n",
    "        val = [\n",
    "            1000, 900, 500, 400,\n",
    "            100, 90, 50, 40,\n",
    "            10, 9, 5, 4, 1\n",
    "        ]\n",
    "        syms = [\n",
    "            \"M\", \"CM\", \"D\", \"CD\",\n",
    "            \"C\", \"XC\", \"L\", \"XL\",\n",
    "            \"X\", \"IX\", \"V\", \"IV\", \"I\"\n",
    "        ]\n",
    "        \n",
    "        roman = []\n",
    "        i = 0\n",
    "\n",
    "        while num > 0:\n",
    "            count = num // val[i]\n",
    "            roman.append(syms[i] * count)\n",
    "            num -= val[i] * count\n",
    "            i += 1\n",
    "\n",
    "        return ''.join(roman)"
   ]
  },
  {
   "cell_type": "code",
   "execution_count": 2,
   "id": "550ed8c7",
   "metadata": {},
   "outputs": [
    {
     "name": "stdout",
     "output_type": "stream",
     "text": [
      "MMMDCCXLIX\n"
     ]
    }
   ],
   "source": [
    "num = 3749\n",
    "s = Solution()\n",
    "print(s.intToRoman(num))"
   ]
  },
  {
   "cell_type": "markdown",
   "id": "567f48f6",
   "metadata": {},
   "source": [
    "> Explanation:\n",
    "\n",
    "- 3000 = MMM as 1000 (M) + 1000 (M) + 1000 (M)\n",
    "-  700 = DCC as 500 (D) + 100 (C) + 100 (C)\n",
    "-  40 = XL as 10 (X) less of 50 (L)\n",
    "-   9 = IX as 1 (I) less of 10 (X)\n",
    "- **Note:** 49 is not 1 (I) less of 50 (L) because the conversion is based on decimal places"
   ]
  },
  {
   "cell_type": "code",
   "execution_count": null,
   "id": "9d12755e",
   "metadata": {},
   "outputs": [],
   "source": []
  }
 ],
 "metadata": {
  "kernelspec": {
   "display_name": "base",
   "language": "python",
   "name": "python3"
  },
  "language_info": {
   "codemirror_mode": {
    "name": "ipython",
    "version": 3
   },
   "file_extension": ".py",
   "mimetype": "text/x-python",
   "name": "python",
   "nbconvert_exporter": "python",
   "pygments_lexer": "ipython3",
   "version": "3.13.2"
  }
 },
 "nbformat": 4,
 "nbformat_minor": 5
}
