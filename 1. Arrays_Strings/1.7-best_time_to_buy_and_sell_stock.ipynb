{
 "cells": [
  {
   "cell_type": "markdown",
   "id": "3aa11a5d",
   "metadata": {},
   "source": [
    "# Best Time to Buy and Sell Stock\n",
    "\n",
    "## Problem Statement\n",
    "\n",
    "You are given an array `prices` where `prices[i]` is the price of a given stock on the `i-th` day. You want to maximize your profit by choosing a single day to buy one stock and choosing a different day in the future to sell that stock. Return the maximum profit you can achieve from this transaction. If you cannot achieve any profit, return 0.\n",
    "\n",
    "### Requirements:\n",
    "1. Find the maximum possible profit from one buy and one sell transaction\n",
    "2. The sell must occur after the buy\n",
    "3. Return 0 if no profit is possible\n"
   ]
  },
  {
   "cell_type": "code",
   "execution_count": 1,
   "id": "01d90bcc",
   "metadata": {},
   "outputs": [],
   "source": [
    "\"\"\"\n",
    "Problem: Best Time to Buy and Sell Stock\n",
    "Link: https://leetcode.com/problems/best-time-to-buy-and-sell-stock\n",
    "Level: Easy\n",
    "\"\"\"\n",
    "class Solution(object):\n",
    "    def maxProfit(self, prices):\n",
    "\n",
    "        min_price = float('inf') # Initialized min_price as positive infinity\n",
    "        max_profit = 0           # Initialize max_profit as 0 (minimum possible profit)\n",
    "        \n",
    "        for price in prices:\n",
    "            if price < min_price: # If current price is less than min_price, update min_price. Otherwise, calculate potential profit.\n",
    "                min_price = price\n",
    "            else:\n",
    "                max_profit = max(max_profit, price - min_price) \n",
    "        \n",
    "        return max_profit"
   ]
  },
  {
   "cell_type": "markdown",
   "id": "b9124dee",
   "metadata": {},
   "source": [
    "## Test Example"
   ]
  },
  {
   "cell_type": "code",
   "execution_count": null,
   "id": "231a807b",
   "metadata": {},
   "outputs": [
    {
     "name": "stdout",
     "output_type": "stream",
     "text": [
      "5\n",
      "0\n"
     ]
    }
   ],
   "source": [
    "prices = [7,1,5,3,6,4]\n",
    "s = Solution()\n",
    "print(s.maxProfit(prices))  # Output: 5\n",
    "\n",
    "prices1 = [7,6,4,3,1]\n",
    "print(s.maxProfit(prices1)) # Output: 0"
   ]
  },
  {
   "cell_type": "code",
   "execution_count": null,
   "id": "c48e7768",
   "metadata": {},
   "outputs": [],
   "source": []
  }
 ],
 "metadata": {
  "kernelspec": {
   "display_name": "base",
   "language": "python",
   "name": "python3"
  },
  "language_info": {
   "codemirror_mode": {
    "name": "ipython",
    "version": 3
   },
   "file_extension": ".py",
   "mimetype": "text/x-python",
   "name": "python",
   "nbconvert_exporter": "python",
   "pygments_lexer": "ipython3",
   "version": "3.13.2"
  }
 },
 "nbformat": 4,
 "nbformat_minor": 5
}
