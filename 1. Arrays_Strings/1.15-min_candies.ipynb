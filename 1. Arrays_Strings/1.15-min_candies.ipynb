{
 "cells": [
  {
   "cell_type": "markdown",
   "id": "1e541978",
   "metadata": {},
   "source": [
    "# Candy Distribution\n",
    "\n",
    "## Problem Statement\n",
    "\n",
    "There are `n` children standing in a line. Each child has a rating value in the integer array `ratings`. You need to distribute candies to these children under the following rules:\n",
    "1. Each child must get at least one candy\n",
    "2. Children with higher ratings than their neighbors must get more candies\n",
    "\n",
    "Return the minimum number of candies needed.\n",
    "\n",
    "### Requirements:\n",
    "1. Every child gets ≥1 candy\n",
    "2. Higher-rated neighbors get more candies\n",
    "3. Minimize total candy count\n"
   ]
  },
  {
   "cell_type": "code",
   "execution_count": null,
   "id": "bfb8e042",
   "metadata": {},
   "outputs": [],
   "source": [
    "\"\"\"\n",
    "Problem: Candy\n",
    "Link: https://leetcode.com/problems/candy\n",
    "Level: Hard\n",
    "\"\"\"\n",
    "class Solution(object):\n",
    "    def candy(self, ratings):\n",
    "\n",
    "        n = len(ratings)\n",
    "        candies = [1] * n\n",
    "\n",
    "        # Left to right: ensure right child gets more if rating is higher\n",
    "        for i in range(1, n):\n",
    "            if ratings[i] > ratings[i - 1]:\n",
    "                candies[i] = candies[i - 1] + 1\n",
    "\n",
    "        # Right to left: Compare each child with right neighbor, and ensure left child gets more if rating is higher\n",
    "        for i in range(n - 2, -1, -1):\n",
    "            if ratings[i] > ratings[i + 1]:\n",
    "                candies[i] = max(candies[i], candies[i + 1] + 1)\n",
    "\n",
    "        return sum(candies)"
   ]
  },
  {
   "cell_type": "code",
   "execution_count": 2,
   "id": "03719bd6",
   "metadata": {},
   "outputs": [
    {
     "name": "stdout",
     "output_type": "stream",
     "text": [
      "5\n"
     ]
    }
   ],
   "source": [
    "ratings = [1,0,2]\n",
    "s = Solution()\n",
    "print(s.candy(ratings))"
   ]
  },
  {
   "cell_type": "markdown",
   "id": "0794e449",
   "metadata": {},
   "source": [
    "> Explanation: You can allocate to the first, second and third child with 2, 1, 2 candies respectively."
   ]
  }
 ],
 "metadata": {
  "kernelspec": {
   "display_name": "base",
   "language": "python",
   "name": "python3"
  },
  "language_info": {
   "codemirror_mode": {
    "name": "ipython",
    "version": 3
   },
   "file_extension": ".py",
   "mimetype": "text/x-python",
   "name": "python",
   "nbconvert_exporter": "python",
   "pygments_lexer": "ipython3",
   "version": "3.13.2"
  }
 },
 "nbformat": 4,
 "nbformat_minor": 5
}
