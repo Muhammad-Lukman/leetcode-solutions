{
 "cells": [
  {
   "cell_type": "markdown",
   "id": "abf7a050",
   "metadata": {},
   "source": [
    "# Longest Common Prefix\n",
    "\n",
    "## Problem Statement\n",
    "\n",
    "Write a function to find the longest common prefix string amongst an array of strings. If there is no common prefix, return an empty string `\"\"`.\n",
    "\n",
    "### Requirements:\n",
    "1. Find the longest string that is a prefix of all strings in the array\n",
    "2. Return empty string if no common prefix exists\n",
    "3. Handle empty input array case\n",
    "\n",
    "\n"
   ]
  },
  {
   "cell_type": "code",
   "execution_count": 1,
   "id": "43f870b7",
   "metadata": {},
   "outputs": [],
   "source": [
    "\"\"\"\n",
    "Problem: Longest Common Prefix\n",
    "Link: https://leetcode.com/problems/longest-common-prefix\n",
    "Level: Easy\n",
    "\"\"\"\n",
    "class Solution(object):\n",
    "    def longestCommonPrefix(self, strs):\n",
    "\n",
    "        if not strs:\n",
    "            return \"\"\n",
    "        \n",
    "        prefix = strs[0]\n",
    "        \n",
    "        for word in strs[1:]:\n",
    "            while not word.startswith(prefix):\n",
    "                prefix = prefix[:-1]\n",
    "                if not prefix:\n",
    "                    return \"\"\n",
    "        \n",
    "        return prefix"
   ]
  },
  {
   "cell_type": "code",
   "execution_count": 2,
   "id": "ebb4cc6e",
   "metadata": {},
   "outputs": [
    {
     "name": "stdout",
     "output_type": "stream",
     "text": [
      "fl\n"
     ]
    }
   ],
   "source": [
    "strs = [\"flower\",\"flow\",\"flight\"]\n",
    "print(Solution().longestCommonPrefix(strs))"
   ]
  },
  {
   "cell_type": "code",
   "execution_count": null,
   "id": "9ecd1cf7",
   "metadata": {},
   "outputs": [],
   "source": []
  }
 ],
 "metadata": {
  "kernelspec": {
   "display_name": "base",
   "language": "python",
   "name": "python3"
  },
  "language_info": {
   "codemirror_mode": {
    "name": "ipython",
    "version": 3
   },
   "file_extension": ".py",
   "mimetype": "text/x-python",
   "name": "python",
   "nbconvert_exporter": "python",
   "pygments_lexer": "ipython3",
   "version": "3.13.2"
  }
 },
 "nbformat": 4,
 "nbformat_minor": 5
}
