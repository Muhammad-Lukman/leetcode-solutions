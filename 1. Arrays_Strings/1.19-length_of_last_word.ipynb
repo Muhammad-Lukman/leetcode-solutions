{
 "cells": [
  {
   "cell_type": "markdown",
   "id": "07dca473",
   "metadata": {},
   "source": [
    "# Length of Last Word\n",
    "\n",
    "## Problem Statement\n",
    "\n",
    "Given a string `s` consisting of words and spaces, return the length of the last word in the string.\n",
    "\n",
    "### Requirements:\n",
    "1. A word is defined as a maximal substring consisting of non-space characters only\n",
    "2. The string may contain leading/trailing spaces or multiple spaces between words\n",
    "3. Return 0 if no valid word exists\n"
   ]
  },
  {
   "cell_type": "code",
   "execution_count": 1,
   "id": "d9e4fe0c",
   "metadata": {},
   "outputs": [],
   "source": [
    "\"\"\"\n",
    "Problem: Length of Last Word\n",
    "Link: https://leetcode.com/problems/length-of-last-word\n",
    "Level: Easy\n",
    "\"\"\"\n",
    "class Solution(object):\n",
    "    def lengthOfLastWord(self, s):\n",
    "\n",
    "        return len(s.strip().split()[-1])\n"
   ]
  },
  {
   "cell_type": "code",
   "execution_count": 2,
   "id": "50cd2a56",
   "metadata": {},
   "outputs": [
    {
     "name": "stdout",
     "output_type": "stream",
     "text": [
      "5\n"
     ]
    }
   ],
   "source": [
    "s = \"Hello World\"\n",
    "print(Solution().lengthOfLastWord(s))"
   ]
  },
  {
   "cell_type": "code",
   "execution_count": null,
   "id": "07108854",
   "metadata": {},
   "outputs": [],
   "source": []
  }
 ],
 "metadata": {
  "kernelspec": {
   "display_name": "base",
   "language": "python",
   "name": "python3"
  },
  "language_info": {
   "codemirror_mode": {
    "name": "ipython",
    "version": 3
   },
   "file_extension": ".py",
   "mimetype": "text/x-python",
   "name": "python",
   "nbconvert_exporter": "python",
   "pygments_lexer": "ipython3",
   "version": "3.13.2"
  }
 },
 "nbformat": 4,
 "nbformat_minor": 5
}
