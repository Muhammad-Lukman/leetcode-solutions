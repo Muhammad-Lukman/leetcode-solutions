{
 "cells": [
  {
   "cell_type": "markdown",
   "id": "f416b55f",
   "metadata": {},
   "source": [
    "# Jump Game II\n",
    "\n",
    "## Problem Statement\n",
    "\n",
    "You are given a 0-indexed array of integers `nums` of length `n`. You are initially positioned at `nums[0]`. Each element `nums[i]` represents the maximum length of a forward jump from index `i`. Return the minimum number of jumps to reach `nums[n - 1]`. The test cases are generated such that you can always reach the last index.\n",
    "\n",
    "### Requirements:\n",
    "1. Start at index 0\n",
    "2. Each element represents maximum jump length from that position\n",
    "3. Return minimum number of jumps to reach last index\n",
    "4. Guaranteed to be reachable\n"
   ]
  },
  {
   "cell_type": "code",
   "execution_count": 3,
   "id": "317d43df",
   "metadata": {},
   "outputs": [],
   "source": [
    "\"\"\"\n",
    "Problem: Jump Game II\n",
    "Link: https://leetcode.com/problems/jump-game-ii\n",
    "Level: Medium\n",
    "\"\"\"\n",
    "class Solution(object):\n",
    "    def jump(self, nums):\n",
    "\n",
    "        jumps = 0\n",
    "        current_end = 0\n",
    "        farthest = 0\n",
    "\n",
    "        for i in range(len(nums) - 1):\n",
    "            farthest = max(farthest, i + nums[i])\n",
    "            if i == current_end:\n",
    "                jumps += 1\n",
    "                current_end = farthest\n",
    "\n",
    "        return jumps"
   ]
  },
  {
   "cell_type": "markdown",
   "id": "24ae9c5c",
   "metadata": {},
   "source": [
    "## Test Example"
   ]
  },
  {
   "cell_type": "code",
   "execution_count": 4,
   "id": "e7f2ce57",
   "metadata": {},
   "outputs": [
    {
     "name": "stdout",
     "output_type": "stream",
     "text": [
      "2\n"
     ]
    }
   ],
   "source": [
    "nums = [2,3,1,1,4]\n",
    "s = Solution()\n",
    "print(s.jump(nums))"
   ]
  },
  {
   "cell_type": "markdown",
   "id": "c61667f6",
   "metadata": {},
   "source": [
    "> The minimum number of jumps to reach the last index is 2. Jump 1 step from index 0 to 1, then 3 steps to the last index."
   ]
  }
 ],
 "metadata": {
  "kernelspec": {
   "display_name": "base",
   "language": "python",
   "name": "python3"
  },
  "language_info": {
   "codemirror_mode": {
    "name": "ipython",
    "version": 3
   },
   "file_extension": ".py",
   "mimetype": "text/x-python",
   "name": "python",
   "nbconvert_exporter": "python",
   "pygments_lexer": "ipython3",
   "version": "3.13.2"
  }
 },
 "nbformat": 4,
 "nbformat_minor": 5
}
