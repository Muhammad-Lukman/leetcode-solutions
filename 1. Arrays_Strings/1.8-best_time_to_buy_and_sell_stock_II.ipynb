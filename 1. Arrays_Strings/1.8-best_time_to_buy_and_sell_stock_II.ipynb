{
 "cells": [
  {
   "cell_type": "markdown",
   "id": "aac1cac4",
   "metadata": {},
   "source": [
    "# Best Time to Buy and Sell Stock II\n",
    "\n",
    "## Problem Statement\n",
    "\n",
    "You are given an integer array `prices` where `prices[i]` is the price of a given stock on the `i-th` day. On each day, you may decide to buy and/or sell the stock. You can only hold at most one share of the stock at any time. However, you can buy and sell on the same day. Find and return the maximum profit you can achieve.\n",
    "\n",
    "### Requirements:\n",
    "1. Can buy and sell multiple times\n",
    "2. Can only hold one share at any time\n",
    "3. Can buy and sell on the same day\n",
    "4. Calculate maximum possible profit\n"
   ]
  },
  {
   "cell_type": "code",
   "execution_count": 1,
   "id": "df8eb675",
   "metadata": {},
   "outputs": [],
   "source": [
    "\"\"\"\n",
    "Problem: Best Time to Buy and Sell Stock II\n",
    "Link: https://leetcode.com/problems/best-time-to-buy-and-sell-stock-ii\n",
    "Level: Medium\n",
    "\"\"\"\n",
    "class Solution(object):\n",
    "    def maxProfit(self, prices):\n",
    "\n",
    "        profit = 0\n",
    "        \n",
    "        for i in range(1, len(prices)):\n",
    "            if prices[i] > prices[i - 1]: # if current price is greater than previous price\n",
    "                profit += prices[i] - prices[i - 1] # add the difference to profit\n",
    "        \n",
    "        return profit"
   ]
  },
  {
   "cell_type": "markdown",
   "id": "0c675858",
   "metadata": {},
   "source": [
    "## Test Example"
   ]
  },
  {
   "cell_type": "code",
   "execution_count": null,
   "id": "624f4a6f",
   "metadata": {},
   "outputs": [
    {
     "name": "stdout",
     "output_type": "stream",
     "text": [
      "7\n"
     ]
    }
   ],
   "source": [
    "prices = [7,1,5,3,6,4]\n",
    "s = Solution()\n",
    "print(s.maxProfit(prices))  # Output: 7"
   ]
  },
  {
   "cell_type": "markdown",
   "id": "99cca7df",
   "metadata": {},
   "source": [
    "> Explanation: Buy on day 2 (price = 1) and sell on day 3 (price = 5), profit = 5-1 = 4. Then buy on day 4 (price = 3) and sell on day 5 (price = 6), profit = 6-3 = 3. Total profit is 4 + 3 = 7."
   ]
  }
 ],
 "metadata": {
  "kernelspec": {
   "display_name": "base",
   "language": "python",
   "name": "python3"
  },
  "language_info": {
   "codemirror_mode": {
    "name": "ipython",
    "version": 3
   },
   "file_extension": ".py",
   "mimetype": "text/x-python",
   "name": "python",
   "nbconvert_exporter": "python",
   "pygments_lexer": "ipython3",
   "version": "3.13.2"
  }
 },
 "nbformat": 4,
 "nbformat_minor": 5
}
