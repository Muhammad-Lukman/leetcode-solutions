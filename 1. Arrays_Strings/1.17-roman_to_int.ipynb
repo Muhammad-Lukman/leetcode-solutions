{
 "cells": [
  {
   "cell_type": "markdown",
   "id": "c73c3fbe",
   "metadata": {},
   "source": [
    "# Roman to Integer\n",
    "\n",
    "## Problem Statement\n",
    "\n",
    "Roman numerals are represented by seven symbols: I, V, X, L, C, D, and M with corresponding values:\n",
    "- I = 1\n",
    "- V = 5\n",
    "- X = 10\n",
    "- L = 50\n",
    "- C = 100\n",
    "- D = 500\n",
    "- M = 1000\n",
    "\n",
    "Roman numerals are typically written largest to smallest left to right, but subtraction is used in six cases:\n",
    "- IV = 4, IX = 9\n",
    "- XL = 40, XC = 90\n",
    "- CD = 400, CM = 900\n",
    "\n",
    "Given a Roman numeral string, convert it to an integer.\n",
    "\n",
    "### Requirements:\n",
    "1. Convert valid Roman numeral to integer\n",
    "2. Handle subtraction cases correctly\n",
    "3. Assume input is always valid"
   ]
  },
  {
   "cell_type": "code",
   "execution_count": null,
   "id": "e7046950",
   "metadata": {},
   "outputs": [],
   "source": [
    "\"\"\"\n",
    "Problem: Roman to Integer\n",
    "Link: https://leetcode.com/problems/roman-to-integer\n",
    "Level: Easy\n",
    "\"\"\"\n",
    "class Solution(object):\n",
    "    def romanToInt(self, s):\n",
    "\n",
    "        roman = {\n",
    "            'I': 1,\n",
    "            'V': 5,\n",
    "            'X': 10,\n",
    "            'L': 50,\n",
    "            'C': 100,\n",
    "            'D': 500,\n",
    "            'M': 1000\n",
    "        }\n",
    "\n",
    "        total = 0\n",
    "        prev = 0\n",
    "\n",
    "        # Process string from right to left\n",
    "        for char in reversed(s):\n",
    "            curr = roman[char]\n",
    "            if curr < prev:\n",
    "                total -= curr  # Subtraction case\n",
    "            else:\n",
    "                total += curr\n",
    "            prev = curr\n",
    "\n",
    "        return total"
   ]
  },
  {
   "cell_type": "code",
   "execution_count": 4,
   "id": "e72355af",
   "metadata": {},
   "outputs": [
    {
     "name": "stdout",
     "output_type": "stream",
     "text": [
      "3\n"
     ]
    }
   ],
   "source": [
    "t = \"III\"\n",
    "s = Solution()\n",
    "print(s.romanToInt(t))  # Output: 3"
   ]
  }
 ],
 "metadata": {
  "kernelspec": {
   "display_name": "base",
   "language": "python",
   "name": "python3"
  },
  "language_info": {
   "codemirror_mode": {
    "name": "ipython",
    "version": 3
   },
   "file_extension": ".py",
   "mimetype": "text/x-python",
   "name": "python",
   "nbconvert_exporter": "python",
   "pygments_lexer": "ipython3",
   "version": "3.13.2"
  }
 },
 "nbformat": 4,
 "nbformat_minor": 5
}
