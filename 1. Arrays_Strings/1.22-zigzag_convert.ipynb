{
 "cells": [
  {
   "cell_type": "markdown",
   "id": "8897de0f",
   "metadata": {},
   "source": [
    "# 6. Zigzag Conversion\n",
    "\n",
    "## Problem Statement\n",
    "\n",
    "The string `\"PAYPALISHIRING\"` is written in a zigzag pattern on a given number of rows like this (for 3 rows):\n",
    "\n",
    "P A H N\n",
    "A P L S I I G\n",
    "Y I R\n",
    "\n",
    "\n",
    "When read line by line, this becomes `\"PAHNAPLSIIGYIR\"`.\n",
    "\n",
    "Write a function that converts a string into its zigzag pattern version given a number of rows.\n",
    "\n",
    "### Requirements:\n",
    "1. Convert the string into a zigzag pattern with `numRows` lines\n",
    "2. Read the characters line by line to form the new string\n",
    "3. Handle edge cases where `numRows` is 1 or greater than string length\n",
    " "
   ]
  },
  {
   "cell_type": "code",
   "execution_count": 1,
   "id": "7a64e584",
   "metadata": {},
   "outputs": [],
   "source": [
    "\"\"\"\n",
    "Problem: Zigzag Conversion\n",
    "Link: https://leetcode.com/problems/zigzag-conversion\n",
    "Level: Medium\n",
    "\"\"\"\n",
    "class Solution(object):\n",
    "    def convert(self, s, numRows):\n",
    "\n",
    "        if numRows == 1 or numRows >= len(s):\n",
    "            return s\n",
    "\n",
    "        rows = [''] * numRows\n",
    "        index, step = 0, 1\n",
    "\n",
    "        for char in s:\n",
    "            rows[index] += char\n",
    "            if index == 0:\n",
    "                step = 1\n",
    "            elif index == numRows - 1:\n",
    "                step = -1\n",
    "            index += step\n",
    "\n",
    "        return ''.join(rows)\n"
   ]
  },
  {
   "cell_type": "code",
   "execution_count": 2,
   "id": "bf0cc06a",
   "metadata": {},
   "outputs": [
    {
     "name": "stdout",
     "output_type": "stream",
     "text": [
      "PAHNAPLSIIGYIR\n"
     ]
    }
   ],
   "source": [
    "s = \"PAYPALISHIRING\"\n",
    "numRows = 3\n",
    "print(Solution().convert(s, numRows))"
   ]
  }
 ],
 "metadata": {
  "kernelspec": {
   "display_name": "base",
   "language": "python",
   "name": "python3"
  },
  "language_info": {
   "codemirror_mode": {
    "name": "ipython",
    "version": 3
   },
   "file_extension": ".py",
   "mimetype": "text/x-python",
   "name": "python",
   "nbconvert_exporter": "python",
   "pygments_lexer": "ipython3",
   "version": "3.13.2"
  }
 },
 "nbformat": 4,
 "nbformat_minor": 5
}
