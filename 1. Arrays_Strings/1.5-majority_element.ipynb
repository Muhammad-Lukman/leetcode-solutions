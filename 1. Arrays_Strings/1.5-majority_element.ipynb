{
 "cells": [
  {
   "cell_type": "markdown",
   "id": "61f1b706",
   "metadata": {},
   "source": [
    "# Majority Element\n",
    "\n",
    "## Problem Statement\n",
    "\n",
    "Given an array `nums` of size `n`, return the **majority element**. The majority element is the element that appears more than `⌊n / 2⌋` times. You may assume that the majority element always exists in the array.\n",
    "\n",
    "### Requirements:\n",
    "1. Return the element that appears more than half the time in the array\n",
    "2. The solution must work in linear time and constant space"
   ]
  },
  {
   "cell_type": "code",
   "execution_count": null,
   "id": "13a9fc8c",
   "metadata": {},
   "outputs": [],
   "source": [
    "''' \n",
    "This is a classic example of the Boyer-Moore Voting Algorithm\n",
    "    - Maintains a count and a candidate variable\n",
    "    - Iterates through the array:\n",
    "        -- If count is 0, selects current element as new candidate\n",
    "        -- Increments count if element matches candidate, decrements otherwise\n",
    "    - The last remaining candidate is guaranteed to be the majority element\n",
    "    - Why It Works:\n",
    "        -- Majority element will survive the count elimination process\n",
    "        -- Even if other elements try to cancel it out, it will always have a net positive count\n",
    "'''\n",
    "class Solution(object):\n",
    "    def majorityElement(self, nums):\n",
    "        count = 0\n",
    "        candidate = None\n",
    "\n",
    "        for num in nums:\n",
    "            if count == 0:\n",
    "                candidate = num\n",
    "            count += (1 if num == candidate else -1)\n",
    "\n",
    "        return candidate\n"
   ]
  },
  {
   "cell_type": "markdown",
   "id": "4a1c9214",
   "metadata": {},
   "source": [
    "## Test Example"
   ]
  },
  {
   "cell_type": "code",
   "execution_count": 7,
   "id": "495116c7",
   "metadata": {},
   "outputs": [
    {
     "name": "stdout",
     "output_type": "stream",
     "text": [
      "2\n"
     ]
    }
   ],
   "source": [
    "nums = [2,2,1,1,1,2,2]\n",
    "s = Solution()\n",
    "print(s.majorityElement(nums))  # Output: 2\n"
   ]
  }
 ],
 "metadata": {
  "kernelspec": {
   "display_name": "base",
   "language": "python",
   "name": "python3"
  },
  "language_info": {
   "codemirror_mode": {
    "name": "ipython",
    "version": 3
   },
   "file_extension": ".py",
   "mimetype": "text/x-python",
   "name": "python",
   "nbconvert_exporter": "python",
   "pygments_lexer": "ipython3",
   "version": "3.13.2"
  }
 },
 "nbformat": 4,
 "nbformat_minor": 5
}
