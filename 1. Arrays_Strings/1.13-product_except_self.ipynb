{
 "cells": [
  {
   "cell_type": "markdown",
   "id": "bc400651",
   "metadata": {},
   "source": [
    "# Product of Array Except Self\n",
    "\n",
    "## Problem Statement\n",
    "\n",
    "Given an integer array `nums`, return an array `answer` such that `answer[i]` is equal to the product of all elements of `nums` except `nums[i]`. The product of any prefix or suffix of `nums` is guaranteed to fit in a 32-bit integer.\n",
    "\n",
    "### Requirements:\n",
    "1. Must run in O(n) time\n",
    "2. Cannot use division operation\n",
    "3. Must handle all integer values (including zeros)\n",
    "4. Output array doesn't count as extra space for space complexity analysis\n"
   ]
  },
  {
   "cell_type": "code",
   "execution_count": 4,
   "id": "658c5e10",
   "metadata": {},
   "outputs": [],
   "source": [
    "\"\"\"\n",
    "Problem: Product of Array Except Self\n",
    "Link: https://leetcode.com/problems/product-of-array-except-self\n",
    "Level: Medium\n",
    "\"\"\"\n",
    "class Solution(object):\n",
    "    def productExceptSelf(self, nums):\n",
    "\n",
    "        n = len(nums)\n",
    "        answer = [1] * n\n",
    "        \n",
    "        # Step 1: Compute left products\n",
    "        for i in range(1, n):\n",
    "            answer[i] = answer[i - 1] * nums[i - 1]\n",
    "\n",
    "        # Step 2: Compute right products and multiply\n",
    "        right = 1\n",
    "        for i in range(n - 1, -1, -1):\n",
    "            answer[i] *= right\n",
    "            right *= nums[i]\n",
    "        \n",
    "        return answer\n"
   ]
  },
  {
   "cell_type": "code",
   "execution_count": 5,
   "id": "65ab741a",
   "metadata": {},
   "outputs": [
    {
     "name": "stdout",
     "output_type": "stream",
     "text": [
      "[24, 12, 8, 6]\n"
     ]
    }
   ],
   "source": [
    "nums = [1,2,3,4]\n",
    "s = Solution()\n",
    "print(s.productExceptSelf(nums)) "
   ]
  }
 ],
 "metadata": {
  "kernelspec": {
   "display_name": "base",
   "language": "python",
   "name": "python3"
  },
  "language_info": {
   "codemirror_mode": {
    "name": "ipython",
    "version": 3
   },
   "file_extension": ".py",
   "mimetype": "text/x-python",
   "name": "python",
   "nbconvert_exporter": "python",
   "pygments_lexer": "ipython3",
   "version": "3.13.2"
  }
 },
 "nbformat": 4,
 "nbformat_minor": 5
}
