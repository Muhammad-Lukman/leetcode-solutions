{
 "cells": [
  {
   "cell_type": "markdown",
   "id": "7f322ec6",
   "metadata": {},
   "source": [
    "# Rotate Array\n",
    "\n",
    "## Problem Statement\n",
    "\n",
    "Given an integer array `nums`, rotate the array to the right by `k` steps, where `k` is non-negative.\n",
    "\n",
    "### Requirements:\n",
    "1. Rotate the array in-place (modify the original array)\n",
    "2. Handle cases where `k` is larger than the array length\n",
    "3. Do not return anything (modify `nums` in-place)"
   ]
  },
  {
   "cell_type": "code",
   "execution_count": 13,
   "id": "066c7e42",
   "metadata": {},
   "outputs": [],
   "source": [
    "\"\"\"\n",
    "Problem: Rotate Array\n",
    "Link: https://leetcode.com/problems/rotate-array\n",
    "Level: Medium\n",
    "\"\"\"\n",
    "class Solution(object):\n",
    "    def rotate(self, nums, k):\n",
    "\n",
    "        n = len(nums)\n",
    "        k %= n  # Handle cases where k > n\n",
    "        nums[:] = nums[-k:] + nums[:-k]  # Rotate using list slicing\n",
    "                    # nums[-k:] gets the last k elements\n",
    "                    # nums[:-k] gets all elements except the last k elements"
   ]
  },
  {
   "cell_type": "markdown",
   "id": "952e0c81",
   "metadata": {},
   "source": [
    "## Alternative"
   ]
  },
  {
   "cell_type": "code",
   "execution_count": 14,
   "id": "3a37eb3b",
   "metadata": {},
   "outputs": [],
   "source": [
    "def rotate2(nums, k):\n",
    "    k %= len(nums)\n",
    "    nums.reverse()\n",
    "    nums[:k] = reversed(nums[:k])\n",
    "    nums[k:] = reversed(nums[k:])"
   ]
  },
  {
   "cell_type": "markdown",
   "id": "5d2f388a",
   "metadata": {},
   "source": [
    "## Test Example"
   ]
  },
  {
   "cell_type": "code",
   "execution_count": 15,
   "id": "0e78568e",
   "metadata": {},
   "outputs": [
    {
     "name": "stdout",
     "output_type": "stream",
     "text": [
      "[5, 6, 7, 1, 2, 3, 4]\n"
     ]
    }
   ],
   "source": [
    "nums = [1,2,3,4,5,6,7]\n",
    "k = 3\n",
    "s = Solution()\n",
    "s.rotate(nums, k)\n",
    "print(nums)\n"
   ]
  },
  {
   "cell_type": "code",
   "execution_count": 16,
   "id": "65f82b7a",
   "metadata": {},
   "outputs": [
    {
     "name": "stdout",
     "output_type": "stream",
     "text": [
      "[5, 6, 7, 1, 2, 3, 4]\n"
     ]
    }
   ],
   "source": [
    "nums1 = [1,2,3,4,5,6,7]\n",
    "k1 = 3\n",
    "rotate2(nums1, k1)\n",
    "print(nums1)"
   ]
  }
 ],
 "metadata": {
  "kernelspec": {
   "display_name": "base",
   "language": "python",
   "name": "python3"
  },
  "language_info": {
   "codemirror_mode": {
    "name": "ipython",
    "version": 3
   },
   "file_extension": ".py",
   "mimetype": "text/x-python",
   "name": "python",
   "nbconvert_exporter": "python",
   "pygments_lexer": "ipython3",
   "version": "3.13.2"
  }
 },
 "nbformat": 4,
 "nbformat_minor": 5
}
