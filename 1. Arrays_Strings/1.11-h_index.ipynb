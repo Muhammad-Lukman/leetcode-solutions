{
 "cells": [
  {
   "cell_type": "markdown",
   "id": "bbcaab12",
   "metadata": {},
   "source": [
    "# H-Index\n",
    "\n",
    "## Problem Statement\n",
    "\n",
    "Given an array of integers `citations` where `citations[i]` is the number of citations a researcher received for their ith paper, return the researcher's h-index. The h-index is defined as the maximum value of h such that the researcher has published at least h papers that have each been cited at least h times.\n",
    "\n",
    "### Requirements:\n",
    "1. Calculate the h-index based on citation counts\n",
    "2. The h-index is the maximum h where h papers have ≥ h citations each\n",
    "3. Return the integer h-index value\n"
   ]
  },
  {
   "cell_type": "code",
   "execution_count": 7,
   "id": "1841eee8",
   "metadata": {},
   "outputs": [],
   "source": [
    "\"\"\"\n",
    "Problem: H-Index\n",
    "Link: https://leetcode.com/problems/h-index\n",
    "Level: Medium\n",
    "\"\"\"\n",
    "class Solution(object):\n",
    "    def hIndex(self, citations):\n",
    "        \"\"\"\n",
    "        :type citations: List[int]\n",
    "        :rtype: int\n",
    "        \"\"\"\n",
    "        citations.sort(reverse=True) \n",
    "        h = 0\n",
    "        for i, c in enumerate(citations): # i is the index, c is the value/number of citations of the paper\n",
    "            if c >= i + 1: # if the citation is greater than or equal to the index + 1\n",
    "                h = i + 1 # update h\n",
    "            else:\n",
    "                break\n",
    "        return h"
   ]
  },
  {
   "cell_type": "markdown",
   "id": "ad5852bb",
   "metadata": {},
   "source": [
    "## Test Example"
   ]
  },
  {
   "cell_type": "code",
   "execution_count": 8,
   "id": "1a70a627",
   "metadata": {},
   "outputs": [
    {
     "name": "stdout",
     "output_type": "stream",
     "text": [
      "3\n"
     ]
    }
   ],
   "source": [
    "citations = [3,0,6,1,5]\n",
    "s = Solution()\n",
    "print(s.hIndex(citations)) # Output: 3\n"
   ]
  },
  {
   "cell_type": "markdown",
   "id": "a4ab3dc6",
   "metadata": {},
   "source": [
    "> Explanation: [3,0,6,1,5] means the researcher has 5 papers in total and each of them had received 3, 0, 6, 1, 5 citations respectively.\n",
    "Since the researcher has 3 papers with at least 3 citations each and the remaining two with no more than 3 citations each, their h-index is 3."
   ]
  },
  {
   "cell_type": "markdown",
   "id": "c462e8a0",
   "metadata": {},
   "source": []
  }
 ],
 "metadata": {
  "kernelspec": {
   "display_name": "base",
   "language": "python",
   "name": "python3"
  },
  "language_info": {
   "codemirror_mode": {
    "name": "ipython",
    "version": 3
   },
   "file_extension": ".py",
   "mimetype": "text/x-python",
   "name": "python",
   "nbconvert_exporter": "python",
   "pygments_lexer": "ipython3",
   "version": "3.13.2"
  }
 },
 "nbformat": 4,
 "nbformat_minor": 5
}
