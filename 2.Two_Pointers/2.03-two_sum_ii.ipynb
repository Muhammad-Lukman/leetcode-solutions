{
 "cells": [
  {
   "cell_type": "markdown",
   "id": "bdb03b14",
   "metadata": {},
   "source": [
    "# Two Sum II - Input Array Is Sorted\n",
    "\n",
    "## Problem Statement\n",
    "\n",
    "Given a 1-indexed array of integers `numbers` sorted in non-decreasing order, find two numbers that add up to a specific `target` number. Return the indices of these numbers (added by 1) as an array `[index1, index2]`.\n",
    "\n",
    "### Requirements:\n",
    "1. Array is sorted in non-decreasing order\n",
    "2. Indices are 1-based (first element is index 1)\n",
    "3. Exactly one solution exists\n",
    "4. Cannot use the same element twice\n",
    "5. Must use O(1) extra space\n"
   ]
  },
  {
   "cell_type": "code",
   "execution_count": 1,
   "id": "80956029",
   "metadata": {},
   "outputs": [],
   "source": [
    "\"\"\"\n",
    "Problem: Two Sum II - Input Array Is Sorted\n",
    "Link: https://leetcode.com/problems/two-sum-ii-input-array-is-sorted\n",
    "Level: Medium\n",
    "\"\"\"\n",
    "class Solution(object):\n",
    "    def twoSum(self, numbers, target):\n",
    " \n",
    "        left, right = 0, len(numbers) - 1\n",
    "\n",
    "        while left < right:\n",
    "            current_sum = numbers[left] + numbers[right]\n",
    "            if current_sum == target:\n",
    "                return [left + 1, right + 1]  # 1-indexed\n",
    "            elif current_sum < target:\n",
    "                left += 1\n",
    "            else:\n",
    "                right -= 1\n"
   ]
  },
  {
   "cell_type": "code",
   "execution_count": null,
   "id": "bf46cf59",
   "metadata": {},
   "outputs": [
    {
     "name": "stdout",
     "output_type": "stream",
     "text": [
      "[1, 2]\n"
     ]
    }
   ],
   "source": [
    "numbers = [2,7,11,15]\n",
    "target = 9\n",
    "print(Solution().twoSum(numbers, target))"
   ]
  },
  {
   "cell_type": "markdown",
   "id": "617ec8ce",
   "metadata": {},
   "source": [
    "> Explanation: The sum of 2 and 7 is 9. Therefore, index1 = 1, index2 = 2. We return [1, 2]."
   ]
  },
  {
   "cell_type": "code",
   "execution_count": null,
   "id": "2e33fc73",
   "metadata": {},
   "outputs": [],
   "source": []
  }
 ],
 "metadata": {
  "kernelspec": {
   "display_name": "base",
   "language": "python",
   "name": "python3"
  },
  "language_info": {
   "codemirror_mode": {
    "name": "ipython",
    "version": 3
   },
   "file_extension": ".py",
   "mimetype": "text/x-python",
   "name": "python",
   "nbconvert_exporter": "python",
   "pygments_lexer": "ipython3",
   "version": "3.13.2"
  }
 },
 "nbformat": 4,
 "nbformat_minor": 5
}
