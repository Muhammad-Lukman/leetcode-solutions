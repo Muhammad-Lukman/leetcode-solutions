{
 "cells": [
  {
   "cell_type": "markdown",
   "id": "cd99f85f",
   "metadata": {},
   "source": [
    "# Container With Most Water\n",
    "\n",
    "## Problem Statement\n",
    "\n",
    "Given an integer array `height` of length `n` representing vertical lines (where each line has endpoints at `(i, 0)` and `(i, height[i])`), find two lines that form a container with the x-axis that can hold the most water.\n",
    "\n",
    "### Requirements:\n",
    "1. The container cannot be slanted\n",
    "2. The area is determined by the shorter of the two lines and the distance between them\n",
    "3. Return the maximum possible area"
   ]
  },
  {
   "cell_type": "code",
   "execution_count": 5,
   "id": "4cee2d4f",
   "metadata": {},
   "outputs": [],
   "source": [
    "\"\"\"\n",
    "Problem: Container With Most Water\n",
    "Link: https://leetcode.com/problems/container-with-most-water\n",
    "Level: Medium\n",
    "\"\"\"\n",
    "class Solution(object):\n",
    "    def maxArea(self, height):\n",
    "\n",
    "        left = 0\n",
    "        right = len(height) - 1\n",
    "        max_water = 0\n",
    "\n",
    "        while left < right:\n",
    "            # Calculate the width and current water container height\n",
    "            width = right - left\n",
    "            h = min(height[left], height[right])\n",
    "            max_water = max(max_water, h * width)\n",
    "\n",
    "            # Move the pointer pointing to the shorter line\n",
    "            if height[left] < height[right]:\n",
    "                left += 1\n",
    "            else:\n",
    "                right -= 1\n",
    "\n",
    "        return max_water"
   ]
  },
  {
   "cell_type": "code",
   "execution_count": 6,
   "id": "49a8cc6c",
   "metadata": {},
   "outputs": [
    {
     "name": "stdout",
     "output_type": "stream",
     "text": [
      "49\n"
     ]
    }
   ],
   "source": [
    "height = [1,8,6,2,5,4,8,3,7]\n",
    "print(Solution().maxArea(height))"
   ]
  },
  {
   "cell_type": "code",
   "execution_count": null,
   "id": "1ddc397e",
   "metadata": {},
   "outputs": [],
   "source": []
  }
 ],
 "metadata": {
  "kernelspec": {
   "display_name": "base",
   "language": "python",
   "name": "python3"
  },
  "language_info": {
   "codemirror_mode": {
    "name": "ipython",
    "version": 3
   },
   "file_extension": ".py",
   "mimetype": "text/x-python",
   "name": "python",
   "nbconvert_exporter": "python",
   "pygments_lexer": "ipython3",
   "version": "3.13.2"
  }
 },
 "nbformat": 4,
 "nbformat_minor": 5
}
