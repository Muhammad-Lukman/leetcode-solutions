{
 "cells": [
  {
   "cell_type": "markdown",
   "id": "6b797706",
   "metadata": {},
   "source": [
    "# Valid Palindrome\n",
    "\n",
    "## Problem Statement\n",
    "\n",
    "A phrase is a palindrome if, after converting all uppercase letters to lowercase and removing all non-alphanumeric characters, it reads the same forward and backward. Given a string `s`, determine if it is a palindrome.\n",
    "\n",
    "### Requirements:\n",
    "1. Convert all characters to lowercase\n",
    "2. Remove all non-alphanumeric characters (only keep a-z, 0-9)\n",
    "3. Check if the processed string reads the same forwards and backwards\n",
    "4. Return true if palindrome, false otherwise\n"
   ]
  },
  {
   "cell_type": "code",
   "execution_count": 1,
   "id": "a950d0f3",
   "metadata": {},
   "outputs": [],
   "source": [
    "\"\"\"\n",
    "Problem: Valid Palindrome\n",
    "Link: leetcode.com/problems/valid-palindrome\n",
    "Level: Hard\n",
    "\"\"\"\n",
    "class Solution(object):\n",
    "    def isPalindrome(self, s):\n",
    "\n",
    "        filtered = [c.lower() for c in s if c.isalnum()]\n",
    "        return filtered == filtered[::-1]"
   ]
  },
  {
   "cell_type": "code",
   "execution_count": 2,
   "id": "c8fed079",
   "metadata": {},
   "outputs": [
    {
     "name": "stdout",
     "output_type": "stream",
     "text": [
      "True\n"
     ]
    }
   ],
   "source": [
    "s = \"A man, a plan, a canal: Panama\"\n",
    "print(Solution().isPalindrome(s))"
   ]
  },
  {
   "cell_type": "code",
   "execution_count": null,
   "id": "c35190e8",
   "metadata": {},
   "outputs": [],
   "source": []
  }
 ],
 "metadata": {
  "kernelspec": {
   "display_name": "base",
   "language": "python",
   "name": "python3"
  },
  "language_info": {
   "codemirror_mode": {
    "name": "ipython",
    "version": 3
   },
   "file_extension": ".py",
   "mimetype": "text/x-python",
   "name": "python",
   "nbconvert_exporter": "python",
   "pygments_lexer": "ipython3",
   "version": "3.13.2"
  }
 },
 "nbformat": 4,
 "nbformat_minor": 5
}
