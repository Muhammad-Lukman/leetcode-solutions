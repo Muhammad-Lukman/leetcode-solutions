{
 "cells": [
  {
   "cell_type": "markdown",
   "id": "9c0ddec6",
   "metadata": {},
   "source": [
    "# 3Sum\n",
    "\n",
    "## Problem Statement\n",
    "\n",
    "Given an integer array `nums`, return all unique triplets `[nums[i], nums[j], nums[k]]` such that:\n",
    "- `i != j`, `i != k`, and `j != k`\n",
    "- `nums[i] + nums[j] + nums[k] == 0`\n",
    "- The solution set must not contain duplicate triplets\n",
    "\n",
    "### Requirements:\n",
    "1. Find all unique triplets that sum to zero\n",
    "2. Each element can only be used once per triplet\n",
    "3. No duplicate triplets in the result\n",
    "4. Order of elements in triplet doesn't matter (but output should be consistent)\n"
   ]
  },
  {
   "cell_type": "code",
   "execution_count": 1,
   "id": "7852b9dc",
   "metadata": {},
   "outputs": [],
   "source": [
    "\"\"\"\n",
    "Problem: 3Sum\n",
    "Link: https://leetcode.com/problems/3sum\n",
    "Level: Medium\n",
    "\"\"\"\n",
    "class Solution(object):\n",
    "    def threeSum(self, nums):\n",
    "\n",
    "        nums.sort()\n",
    "        result = []\n",
    "        n = len(nums)\n",
    "\n",
    "        for i in range(n - 2):\n",
    "            if i > 0 and nums[i] == nums[i - 1]:\n",
    "                continue  # Skip duplicate elements\n",
    "\n",
    "            left, right = i + 1, n - 1\n",
    "\n",
    "            while left < right:\n",
    "                total = nums[i] + nums[left] + nums[right]\n",
    "\n",
    "                if total < 0:\n",
    "                    left += 1\n",
    "                elif total > 0:\n",
    "                    right -= 1\n",
    "                else:\n",
    "                    result.append([nums[i], nums[left], nums[right]])\n",
    "\n",
    "                    # Skip duplicates for left and right\n",
    "                    while left < right and nums[left] == nums[left + 1]:\n",
    "                        left += 1\n",
    "                    while left < right and nums[right] == nums[right - 1]:\n",
    "                        right -= 1\n",
    "\n",
    "                    left += 1\n",
    "                    right -= 1\n",
    "\n",
    "        return result\n"
   ]
  },
  {
   "cell_type": "code",
   "execution_count": 2,
   "id": "68fbaa31",
   "metadata": {},
   "outputs": [
    {
     "name": "stdout",
     "output_type": "stream",
     "text": [
      "[[-1, -1, 2], [-1, 0, 1]]\n"
     ]
    }
   ],
   "source": [
    "nums = [-1,0,1,2,-1,-4]\n",
    "print(Solution().threeSum(nums))"
   ]
  },
  {
   "cell_type": "markdown",
   "id": "5645ed6b",
   "metadata": {},
   "source": [
    "> Explanation: \n",
    "- nums[0] + nums[1] + nums[2] = (-1) + 0 + 1 = 0.\n",
    "- nums[1] + nums[2] + nums[4] = 0 + 1 + (-1) = 0.\n",
    "- nums[0] + nums[3] + nums[4] = (-1) + 2 + (-1) = 0.\n",
    "- The distinct triplets are [-1,0,1] and [-1,-1,2].\n",
    "- Notice that the order of the output and the order of the triplets does not matter."
   ]
  }
 ],
 "metadata": {
  "kernelspec": {
   "display_name": "base",
   "language": "python",
   "name": "python3"
  },
  "language_info": {
   "codemirror_mode": {
    "name": "ipython",
    "version": 3
   },
   "file_extension": ".py",
   "mimetype": "text/x-python",
   "name": "python",
   "nbconvert_exporter": "python",
   "pygments_lexer": "ipython3",
   "version": "3.13.2"
  }
 },
 "nbformat": 4,
 "nbformat_minor": 5
}
