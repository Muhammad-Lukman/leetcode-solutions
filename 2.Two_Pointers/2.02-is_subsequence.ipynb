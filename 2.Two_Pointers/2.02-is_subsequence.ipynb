{
 "cells": [
  {
   "cell_type": "markdown",
   "id": "cda50916",
   "metadata": {},
   "source": [
    "# 392. Is Subsequence\n",
    "\n",
    "## Problem Statement\n",
    "\n",
    "Given two strings `s` and `t`, return `true` if `s` is a subsequence of `t`, or `false` otherwise.\n",
    "\n",
    "A subsequence is formed by deleting zero or more characters from `t` without changing the relative order of the remaining characters.\n",
    "\n",
    "### Requirements:\n",
    "1. Check if all characters of `s` appear in `t` in the same order\n",
    "2. Characters don't need to be contiguous in `t`\n",
    "3. Empty string is always a subsequence\n"
   ]
  },
  {
   "cell_type": "code",
   "execution_count": 3,
   "id": "f2cca49e",
   "metadata": {},
   "outputs": [],
   "source": [
    "\"\"\"\n",
    "Problem: Is Subsequence\n",
    "Link: https://leetcode.com/problems/is-subsequence\n",
    "Level: Hard\n",
    "\"\"\"\n",
    "class Solution(object):\n",
    "    def isSubsequence(self, s, t):\n",
    "\n",
    "        i, j = 0, 0\n",
    "        while i < len(s) and j < len(t):\n",
    "            if s[i] == t[j]:\n",
    "                i += 1\n",
    "            j += 1\n",
    "        return i == len(s)\n"
   ]
  },
  {
   "cell_type": "code",
   "execution_count": 4,
   "id": "e652619c",
   "metadata": {},
   "outputs": [
    {
     "name": "stdout",
     "output_type": "stream",
     "text": [
      "True\n"
     ]
    }
   ],
   "source": [
    "s = \"abc\"\n",
    "t = \"ahbgdc\"\n",
    "print(Solution().isSubsequence(s, t))"
   ]
  },
  {
   "cell_type": "code",
   "execution_count": null,
   "id": "5ad6e566",
   "metadata": {},
   "outputs": [],
   "source": []
  }
 ],
 "metadata": {
  "kernelspec": {
   "display_name": "base",
   "language": "python",
   "name": "python3"
  },
  "language_info": {
   "codemirror_mode": {
    "name": "ipython",
    "version": 3
   },
   "file_extension": ".py",
   "mimetype": "text/x-python",
   "name": "python",
   "nbconvert_exporter": "python",
   "pygments_lexer": "ipython3",
   "version": "3.13.2"
  }
 },
 "nbformat": 4,
 "nbformat_minor": 5
}
