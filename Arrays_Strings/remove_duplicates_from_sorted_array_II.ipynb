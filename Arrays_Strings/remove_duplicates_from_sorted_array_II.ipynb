{
 "cells": [
  {
   "cell_type": "markdown",
   "id": "e732c62e",
   "metadata": {},
   "source": [
    "# Remove Duplicates from Sorted Array II\n",
    "\n",
    "## Problem Statement\n",
    "\n",
    "Given an integer array `nums` sorted in **non-decreasing order**, remove some duplicates **in-place** such that each unique element appears **at most twice**. The relative order of the elements should be kept the same.\n",
    "\n",
    "### Requirements:\n",
    "1. **Modify `nums` in-place**:\n",
    "   - First `k` elements should contain all elements with at most 2 duplicates in original order\n",
    "   - Remaining elements can be anything (array length can stay unchanged)\n",
    "2. **Return `k`** (count of elements after removal)\n"
   ]
  },
  {
   "cell_type": "code",
   "execution_count": 6,
   "id": "e7727ae1",
   "metadata": {},
   "outputs": [],
   "source": [
    "\"\"\"\n",
    "Link: https://leetcode.com/problems/remove-duplicates-from-sorted-array-ii\n",
    "Level: Medium\n",
    "\"\"\"\n",
    "class Solution(object):\n",
    "    def removeDuplicates(self, nums):\n",
    "\n",
    "        n = len(nums)\n",
    "        if n <= 2:\n",
    "            return n # array must have > 2 elements\n",
    "\n",
    "        # Position of the next valid element\n",
    "        k = 2\n",
    "\n",
    "        for i in range(2, n):\n",
    "            # Compare current element with the element k-2 places before\n",
    "            if nums[i] != nums[k - 2]:\n",
    "                nums[k] = nums[i]\n",
    "                k += 1\n",
    "\n",
    "        return k\n"
   ]
  },
  {
   "cell_type": "markdown",
   "id": "cc300690",
   "metadata": {},
   "source": [
    "## Test Example"
   ]
  },
  {
   "cell_type": "code",
   "execution_count": 7,
   "id": "c9a323b6",
   "metadata": {},
   "outputs": [
    {
     "name": "stdout",
     "output_type": "stream",
     "text": [
      "6\n",
      "[0, 0, 1, 1, 3, 3]\n"
     ]
    }
   ],
   "source": [
    "nums = [0,0,1,1,1,1,3,3,3]\n",
    "s = Solution()\n",
    "k = s.removeDuplicates(nums)\n",
    "print(k)        # Output: 6\n",
    "print(nums[:k]) # Output: [0,0,1,1,2,3,3]\n"
   ]
  }
 ],
 "metadata": {
  "kernelspec": {
   "display_name": "base",
   "language": "python",
   "name": "python3"
  },
  "language_info": {
   "codemirror_mode": {
    "name": "ipython",
    "version": 3
   },
   "file_extension": ".py",
   "mimetype": "text/x-python",
   "name": "python",
   "nbconvert_exporter": "python",
   "pygments_lexer": "ipython3",
   "version": "3.13.2"
  }
 },
 "nbformat": 4,
 "nbformat_minor": 5
}
