{
 "cells": [
  {
   "cell_type": "markdown",
   "id": "4acd3a51",
   "metadata": {},
   "source": [
    "# Remove Duplicates from Sorted Array\n",
    "\n",
    "## Problem Statement\n",
    "\n",
    "Given an integer array `nums` sorted in **non-decreasing order**, remove the duplicates **in-place** such that each unique element appears only once. The relative order of the elements should be kept the same.\n",
    "\n",
    "### Requirements:\n",
    "1. **Modify `nums` in-place**:\n",
    "   - First `k` elements should contain all unique elements in original order\n",
    "   - Remaining elements can be anything (array length can stay unchanged)\n",
    "2. **Return `k`** (count of unique elements)\n"
   ]
  },
  {
   "cell_type": "code",
   "execution_count": 10,
   "id": "2bce2f04",
   "metadata": {},
   "outputs": [],
   "source": [
    "\"\"\"\n",
    "Link: https://leetcode.com/problems/remove-duplicates-from-sorted-array\n",
    "Level: Easy\n",
    "\"\"\"\n",
    "class Solution(object):\n",
    "    def removeDuplicates(self, nums):\n",
    "\n",
    "        if not nums:\n",
    "            return 0 # If nums is empty, return 0\n",
    "\n",
    "        # Position of the next unique element\n",
    "        k = 1\n",
    "\n",
    "        for i in range(1, len(nums)):\n",
    "            if nums[i] != nums[i - 1]: # Filters duplicates - means nums[i] is a new unique element not same as the previous element in sequence (as array is already sorted)\n",
    "                nums[k] = nums[i]\n",
    "                k += 1\n",
    "\n",
    "        return k\n"
   ]
  },
  {
   "cell_type": "markdown",
   "id": "43337eba",
   "metadata": {},
   "source": [
    "## Test Example"
   ]
  },
  {
   "cell_type": "code",
   "execution_count": 11,
   "id": "f57203e3",
   "metadata": {},
   "outputs": [
    {
     "name": "stdout",
     "output_type": "stream",
     "text": [
      "5\n",
      "[0, 1, 2, 3, 4]\n"
     ]
    }
   ],
   "source": [
    "nums = [0,0,1,1,1,2,2,3,3,4]\n",
    "s = Solution()\n",
    "k = s.removeDuplicates(nums)\n",
    "print(k)        # Output: 5\n",
    "print(nums[:k]) # Output: [0, 1, 2, 3, 4]"
   ]
  }
 ],
 "metadata": {
  "kernelspec": {
   "display_name": "base",
   "language": "python",
   "name": "python3"
  },
  "language_info": {
   "codemirror_mode": {
    "name": "ipython",
    "version": 3
   },
   "file_extension": ".py",
   "mimetype": "text/x-python",
   "name": "python",
   "nbconvert_exporter": "python",
   "pygments_lexer": "ipython3",
   "version": "3.13.2"
  }
 },
 "nbformat": 4,
 "nbformat_minor": 5
}
