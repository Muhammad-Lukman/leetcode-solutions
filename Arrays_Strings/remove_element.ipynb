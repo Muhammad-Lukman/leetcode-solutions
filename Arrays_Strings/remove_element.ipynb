{
 "cells": [
  {
   "cell_type": "markdown",
   "id": "211b8dbd",
   "metadata": {},
   "source": [
    "# Remove Element\n",
    "\n",
    "## Problem Description\n",
    "\n",
    "Given an integer array `nums` and an integer `val`, remove all occurrences of `val` in `nums` **in-place**. The order of the elements may be changed. Then return the number of elements in `nums` which are not equal to `val`.\n",
    "\n",
    "### Requirements:\n",
    "1. **Modify `nums` in-place**:\n",
    "   - First `k` elements should contain all elements ≠ `val`\n",
    "   - Remaining elements can be anything (and array length can stay unchanged)\n",
    "2. **Return `k`** (count of elements ≠ `val`)"
   ]
  },
  {
   "cell_type": "code",
   "execution_count": 1,
   "id": "b5a0516c",
   "metadata": {},
   "outputs": [],
   "source": [
    "\"\"\"\n",
    "Link: https://leetcode.com/problems/remove-element\n",
    "Level: Easy\n",
    "\"\"\"\n",
    "class Solution(object):\n",
    "    def removeElement(self, nums, val):\n",
    "\n",
    "        # Position to insert next valid element\n",
    "        k = 0\n",
    "        \n",
    "        for i in range(len(nums)):\n",
    "            if nums[i] != val:\n",
    "                nums[k] = nums[i]\n",
    "                k += 1\n",
    "        \n",
    "        return k\n"
   ]
  },
  {
   "cell_type": "markdown",
   "id": "6e46c244",
   "metadata": {},
   "source": [
    "## Test Example"
   ]
  },
  {
   "cell_type": "code",
   "execution_count": 2,
   "id": "2f9733bd",
   "metadata": {},
   "outputs": [
    {
     "name": "stdout",
     "output_type": "stream",
     "text": [
      "2\n",
      "[2, 1]\n"
     ]
    }
   ],
   "source": [
    "s = Solution()\n",
    "nums = [3,2,1,3]\n",
    "val = 3\n",
    "k = s.removeElement(nums, val)\n",
    "print(k)        # Output: 2\n",
    "print(nums[:k]) # Output: [2,2] (order doesn't matter)\n"
   ]
  }
 ],
 "metadata": {
  "kernelspec": {
   "display_name": "base",
   "language": "python",
   "name": "python3"
  },
  "language_info": {
   "codemirror_mode": {
    "name": "ipython",
    "version": 3
   },
   "file_extension": ".py",
   "mimetype": "text/x-python",
   "name": "python",
   "nbconvert_exporter": "python",
   "pygments_lexer": "ipython3",
   "version": "3.13.2"
  }
 },
 "nbformat": 4,
 "nbformat_minor": 5
}
