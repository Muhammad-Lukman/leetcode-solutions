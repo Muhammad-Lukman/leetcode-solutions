{
 "cells": [
  {
   "cell_type": "markdown",
   "id": "327f080f",
   "metadata": {},
   "source": [
    "# Merge Sorted Array\n",
    "\n",
    "## Problem Statement\n",
    "\n",
    "You are given:\n",
    "- Two integer arrays `nums1` and `nums2`, sorted in non-decreasing order\n",
    "- Two integers `m` and `n`, representing:\n",
    "  - Number of elements in `nums1` (valid elements)\n",
    "  - Number of elements in `nums2`\n",
    "\n",
    "**Task:**  \n",
    "Merge `nums1` and `nums2` into a single array sorted in non-decreasing order, storing the result in `nums1`.\n",
    "- `nums1` has length `m + n` where:\n",
    "  - First `m` elements are valid\n",
    "  - Last `n` elements are 0 (should be ignored)\n",
    "- `nums2` has length exactly `n`"
   ]
  },
  {
   "cell_type": "code",
   "execution_count": 2,
   "id": "f9bedb4e",
   "metadata": {},
   "outputs": [],
   "source": [
    "\"\"\"\n",
    "Problem: Merge Sorted Array\n",
    "Link: https://leetcode.com/problems/merge-sorted-array\n",
    "Level: Easy\n",
    "Category: Arrays / Two Pointers / In-place Merge\n",
    "\"\"\"\n",
    "\n",
    "class Solution(object):\n",
    "    def merge(self, nums1, m, nums2, n):\n",
    "        \"\"\"\n",
    "        :type nums1: List[int]\n",
    "        :type m: int\n",
    "        :type nums2: List[int]\n",
    "        :type n: int\n",
    "        :rtype: None Do not return anything, modify nums1 in-place instead.\n",
    "        \"\"\"\n",
    "        \n",
    "        # i - tracks current position in nums1's valid elements (last index)\n",
    "        # j - tracks current position in nums2 (last index)\n",
    "        # k - tracks position to place next element in nums1 (last index)\n",
    "        i = m - 1\n",
    "        j = n - 1\n",
    "        k = m + n - 1\n",
    "\n",
    "        # Merge from the end of both arrays\n",
    "        while i >= 0 and j >= 0:\n",
    "            if nums1[i] > nums2[j]:\n",
    "                nums1[k] = nums1[i]  # Places larger element at k\n",
    "                i -= 1\n",
    "            else:\n",
    "                nums1[k] = nums2[j]  # Places larger element at k\n",
    "                j -= 1\n",
    "            k -= 1\n",
    "\n",
    "        # Copy the remaining elements of num2, if any\n",
    "        while j >= 0:\n",
    "            nums1[k] = nums2[j]\n",
    "            j -= 1\n",
    "            k -= 1"
   ]
  },
  {
   "cell_type": "markdown",
   "id": "5cb5927a",
   "metadata": {},
   "source": [
    "## Test Example"
   ]
  },
  {
   "cell_type": "code",
   "execution_count": null,
   "id": "2597ac5c",
   "metadata": {},
   "outputs": [
    {
     "name": "stdout",
     "output_type": "stream",
     "text": [
      "[1, 2, 2, 3, 5, 6]\n"
     ]
    }
   ],
   "source": [
    "\n",
    "nums1 = [1,2,3,0,0,0] # 0's are not valid so will be ignored\n",
    "m = 3\n",
    "nums2 = [2,5,6]\n",
    "n = 3\n",
    "sol = Solution()\n",
    "sol.merge(nums1, m, nums2, n) # Modifies nums1\n",
    "print(nums1) "
   ]
  },
  {
   "cell_type": "code",
   "execution_count": null,
   "id": "a663777f",
   "metadata": {},
   "outputs": [],
   "source": []
  }
 ],
 "metadata": {
  "kernelspec": {
   "display_name": "base",
   "language": "python",
   "name": "python3"
  },
  "language_info": {
   "codemirror_mode": {
    "name": "ipython",
    "version": 3
   },
   "file_extension": ".py",
   "mimetype": "text/x-python",
   "name": "python",
   "nbconvert_exporter": "python",
   "pygments_lexer": "ipython3",
   "version": "3.13.2"
  }
 },
 "nbformat": 4,
 "nbformat_minor": 5
}
