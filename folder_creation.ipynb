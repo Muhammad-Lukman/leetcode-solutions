{
 "cells": [
  {
   "cell_type": "code",
   "execution_count": null,
   "id": "79460d97",
   "metadata": {},
   "outputs": [],
   "source": [
    "import os\n",
    "\n",
    "folders = [\n",
    "    \"Arrays_Strings\", \"Two_Pointers\", \"Sliding_Window\", \"Hashmap\", \"Stack\",\n",
    "    \"Linked_List\", \"Trees\", \"Graphs\", \"Trie\", \"Backtracking\", \"Divide_Conquer\",\n",
    "    \"Binary_Search\", \"Heap\", \"Bit_Manipulation\", \"Math\", \"Dynamic_Programming\",\n",
    "    \"Hard\", \"Utils\"\n",
    "]\n",
    "\n",
    "for folder in folders:\n",
    "    os.makedirs(folder, exist_ok=True)\n",
    "    with open(os.path.join(folder, \"README.md\"), \"w\") as f:\n",
    "        f.write(f\"# {folder.replace('_', ' ')} Problems\\n\\n\")\n",
    "\n",
    "print(\"Folder structure created.\")\n"
   ]
  }
 ],
 "metadata": {
  "kernelspec": {
   "display_name": "base",
   "language": "python",
   "name": "python3"
  },
  "language_info": {
   "codemirror_mode": {
    "name": "ipython",
    "version": 3
   },
   "file_extension": ".py",
   "mimetype": "text/x-python",
   "name": "python",
   "nbconvert_exporter": "python",
   "pygments_lexer": "ipython3",
   "version": "3.13.2"
  }
 },
 "nbformat": 4,
 "nbformat_minor": 5
}
